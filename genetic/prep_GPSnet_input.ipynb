{
 "cells": [
  {
   "cell_type": "code",
   "execution_count": 8,
   "id": "6776dd27-4d5f-4084-b8b8-406c3ed0c9b9",
   "metadata": {},
   "outputs": [],
   "source": [
    "##### prepare data used for GPSnet\n",
    "import pandas as pd\n",
    "import numpy as np\n",
    "import math\n",
    "import scipy.io\n",
    "import copy\n",
    "from scipy import stats\n",
    "# import matplotlib.pyplot as plt\n",
    "import os"
   ]
  },
  {
   "cell_type": "code",
   "execution_count": 6,
   "id": "f47e637d-51bd-4049-9f0d-42f659939716",
   "metadata": {},
   "outputs": [],
   "source": [
    "### User provided trait list\n",
    "# traits_list=['updrs2','updrs3','schwab',#motor\n",
    "#              'updrs1','updrs4','tremor_scores','pigd_scores',\n",
    "#              'moca','benton', 'hvlt_delayed_recall','hvlt_recog_disc_index',#cognition\n",
    "#              'hvlt_retention','hvlt_total_recall', 'lns','semantic_fluency','symbol_digit',#cognition\n",
    "#              'gds','stai',#mood\n",
    "#              'scopa',#automatic\n",
    "#              'rem','ess',#sleep\n",
    "#              'quip','gco',\n",
    "#              'alpha_syn','total_tau','abeta_42','p_tau181p'#biomarker\n",
    "#              ]\n",
    "\n",
    "traits_list=['updrs3']\n"
   ]
  },
  {
   "cell_type": "code",
   "execution_count": 15,
   "id": "c70dd406-a556-404d-85cf-bed06f33876b",
   "metadata": {},
   "outputs": [],
   "source": [
    "lmm_result_path='./lmm_result/PD_combined/per_trait/'\n",
    "file_suffix='_linear_mt.csv'\n",
    "version='genetic_PD_combined'"
   ]
  },
  {
   "cell_type": "code",
   "execution_count": 4,
   "id": "2bb7c268-4e67-4cd6-9dab-f8c0f2ede435",
   "metadata": {},
   "outputs": [],
   "source": [
    "# reference files\n",
    "gene2snp_ref_path='../../ref/combined_map_gene2snp.csv'\n",
    "gene_id_ref_path='../../ref/gene_vocab.csv'\n",
    "gene2snp_ref_df=pd.read_csv(gene2snp_ref_path)\n",
    "gene_id_ref_df=pd.read_csv(gene_id_ref_path)"
   ]
  },
  {
   "cell_type": "code",
   "execution_count": 19,
   "id": "cc1aedb0",
   "metadata": {},
   "outputs": [],
   "source": [
    "# create folder\n",
    "save_data_path='../GPSnet/'+version+'/data/'\n",
    "save_code_path='../GPSnet/'+version+'/code/'\n",
    "if not os.path.exists(save_data_path):\n",
    "    os.makedirs(save_data_path)\n",
    "\n",
    "if not os.path.exists(save_code_path):\n",
    "    os.makedirs(save_code_path)"
   ]
  },
  {
   "cell_type": "code",
   "execution_count": 20,
   "id": "f329bb36-7585-4c23-8555-404d0eec263b",
   "metadata": {},
   "outputs": [],
   "source": [
    "def prep_mat(trait,save_data_path):\n",
    "    df=pd.read_csv(lmm_result_path+trait+file_suffix)\n",
    "\n",
    "    ## select SNPs whose p_mt < 0.05 and split its genes\n",
    "    sig_df_list=[]#save gene, p, beta\n",
    "    for i in range(df.shape[0]):\n",
    "        one_line=df.iloc[i,]\n",
    "        p_mt=one_line['p_mt']\n",
    "        if p_mt < 0.05:\n",
    "            gene_str=one_line['Genes']\n",
    "            if pd.isnull(gene_str):#no matched gene \n",
    "                print('no matched gene for %s' % one_line['SNP'])\n",
    "            else:\n",
    "                if '|' in gene_str:\n",
    "                    genes=gene_str.split('|')\n",
    "                else:#one gene\n",
    "                    genes=gene_str\n",
    "                for g in genes:\n",
    "                    sig_df_list.append([g,one_line['p_mt'],one_line['beta_mt']])\n",
    "    sig_df=pd.DataFrame(sig_df_list,columns=['GENE','PVAL','BETA'])\n",
    "    \n",
    "    ## map gene name/ensembl ID to NCBI id\n",
    "    id_df=[]\n",
    "    for i in range(sig_df.shape[0]):\n",
    "        gene=sig_df.iloc[i,0]\n",
    "        pval=sig_df.iloc[i,1]\n",
    "        beta=sig_df.iloc[i,2]\n",
    "        if gene.startswith('ENSG'):\n",
    "            one_line_ref = gene_id_ref_df.loc[gene_id_ref_df.ensembl_id==gene]\n",
    "        else:\n",
    "            one_line_ref=gene_id_ref_df.loc[gene_id_ref_df.symbol==gene]\n",
    "        if len(one_line_ref)>0:#if one gene has multiple NCBI ids\n",
    "            ncbi_id=one_line_ref['ncbi_id']\n",
    "            for j in ncbi_id.values:\n",
    "                id_df.append([j,pval,beta])\n",
    "        else:\n",
    "            pass\n",
    "            #print('no one_line_ref:'+gene)#[PVRL2,SLC12A2-DT,DYNLRB2-AS1,FLJ33630,MS4,TRIM51G,SIPA1L1-AS1]\n",
    "    id_df = pd.DataFrame(id_df, columns=['ncbi_id', 'PVAL', 'BETA'])\n",
    "    \n",
    "    # select the largest -logp*beta for each gene id\n",
    "    all_gene_list=list(set(list(id_df.ncbi_id)))\n",
    "    input_df=[]\n",
    "    for g in all_gene_list:\n",
    "        sub_df=id_df.loc[id_df['ncbi_id']==g]\n",
    "        v_max=0\n",
    "        for i_sub in range(sub_df.shape[0]):\n",
    "            v=-math.log10(sub_df.iloc[i_sub,:]['PVAL']) * abs(sub_df.iloc[i_sub,:]['BETA'])\n",
    "            if v > v_max:\n",
    "                v_max=v\n",
    "        input_df.append([g, v_max])\n",
    "    input_df = pd.DataFrame(input_df, columns=['ncbi_id', 'sig'])\n",
    "    \n",
    "    # normalize value\n",
    "    norm_value=stats.zscore(input_df['sig'])#z-score\n",
    "    norm_value=(norm_value-np.min(norm_value))/(np.max(norm_value)-np.min(norm_value))#min-max\n",
    "    norm_df=copy.deepcopy(input_df)\n",
    "    norm_df['sig']=norm_value\n",
    "    \n",
    "    scipy.io.savemat(save_data_path+trait+'_linear.mat', {'Mutation':np.array(norm_df)})\n",
    "    \n",
    "    return norm_df\n"
   ]
  },
  {
   "cell_type": "code",
   "execution_count": 21,
   "id": "c4f8fe65-4b9b-4d5c-be15-f2a0baac21c7",
   "metadata": {},
   "outputs": [
    {
     "name": "stdout",
     "output_type": "stream",
     "text": [
      "finish updrs3\n",
      "max in updrs3: 1.000000\n"
     ]
    }
   ],
   "source": [
    "all_gene_id_list=[]\n",
    "for trait in traits_list:\n",
    "    ### linear model results\n",
    "    linear_df=prep_mat(trait,save_data_path)\n",
    "    print('finish '+trait)\n",
    "    #print('max in %s: %f' % (trait,linear_df.sig.max()))\n",
    "    gene_id_list = list(linear_df.ncbi_id)\n",
    "    all_gene_id_list+=gene_id_list\n",
    "\n",
    "#### prepare gene length mat, set 1 for all genes\n",
    "all_gene_id_list=list(set(all_gene_id_list))\n",
    "gene_length_list=[1]*len(all_gene_id_list)\n",
    "gene_length_df=pd.DataFrame({'ncbi_id':all_gene_id_list,'length':gene_length_list})\n",
    "id_mat=np.array(gene_length_df)\n",
    "scipy.io.savemat(save_data_path+'gene_length_df.mat', {'Gene_Length':id_mat})\n",
    "\n",
    "##### prepare matlab code\n",
    "for trait in traits_list:\n",
    "    out=open(save_code_path+'/run_'+trait+'.m','w')\n",
    "    out.write(\"trait='%s';\\n\"%trait)\n",
    "    out.write(\"Raw_Module_Generation(trait,0.5,'linear');\\n\")\n",
    "    # out.write(\"ppmi_gene=Cancer_Module_Calculation(trait,0.5,0.005,'linear');\\n\")\n",
    "    # out.write(\"save_f = ['../result/',trait,'.txt'];\\n\")\n",
    "    # out.write(\"f = fopen(save_f, 'w');\\n\")\n",
    "    # out.write(\"fprintf(f, '%d\\\\n', ppmi_gene);\\n\")\n",
    "    # out.write(\"fclose(f);\")\n",
    "    out.close()"
   ]
  },
  {
   "cell_type": "code",
   "execution_count": 22,
   "id": "34a1b3bc",
   "metadata": {},
   "outputs": [
    {
     "data": {
      "text/plain": [
       "0"
      ]
     },
     "execution_count": 22,
     "metadata": {},
     "output_type": "execute_result"
    }
   ],
   "source": [
    "# copy essential data/code\n",
    "cmd1=f'cp ../GPSnet/ref_data/PPI.mat {save_data_path}'\n",
    "cmd2=f'cp ../GPSnet/ref_code/matlab/* {save_code_path}'\n",
    "os.system(cmd1)\n",
    "os.system(cmd2)"
   ]
  }
 ],
 "metadata": {
  "kernelspec": {
   "display_name": "Python 3 (ipykernel)",
   "language": "python",
   "name": "python3"
  },
  "language_info": {
   "codemirror_mode": {
    "name": "ipython",
    "version": 3
   },
   "file_extension": ".py",
   "mimetype": "text/x-python",
   "name": "python",
   "nbconvert_exporter": "python",
   "pygments_lexer": "ipython3",
   "version": "3.8.5"
  }
 },
 "nbformat": 4,
 "nbformat_minor": 5
}
